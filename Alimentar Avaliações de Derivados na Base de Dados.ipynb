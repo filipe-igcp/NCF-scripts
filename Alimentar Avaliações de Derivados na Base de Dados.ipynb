{
 "cells": [
  {
   "cell_type": "markdown",
   "id": "8ccb8415",
   "metadata": {},
   "source": [
    "### Importar Dados"
   ]
  },
  {
   "cell_type": "code",
   "execution_count": 8,
   "id": "0f12a005",
   "metadata": {},
   "outputs": [
    {
     "name": "stdout",
     "output_type": "stream",
     "text": [
      "WARNING *** OLE2 inconsistency: SSCS size is 0 but SSAT size is non-zero\n",
      "2025-09-04 00:00:00\n",
      "Processing file: \\\\igcp.pt\\wss\\Import_Export\\Export\\PRD\\Dashboard_Export\\NCF-DERIVADOS_20250904_68.xlsx\n",
      "File repaired successfully.\n",
      "Repaired files for pattern 'NCF-DERIVADOS': ['\\\\\\\\igcp.pt\\\\wss\\\\Import_Export\\\\Export\\\\PRD\\\\Dashboard_Export\\\\NCF-DERIVADOS_20250904_68.xlsx']\n",
      "VaR Paramétrico Multifator com dados históricos considerados até: 2025-06-06\n"
     ]
    }
   ],
   "source": [
    "from avaliacao_swaps import *\n",
    "from swap_trades import trade_params_df \n",
    "from processar_avaliacoes_repos_derivados import *\n",
    "from queries import *\n",
    "from dashboard_diario import process_files_for_patterns,repair_last_file,repair_and_save_excel\n",
    "from dateutil.relativedelta import relativedelta\n",
    "import os\n",
    "reference_date = datetime.today()\n",
    "reference_date_str = reference_date.strftime('%Y%m%d')\n",
    "reference_date_str_2 = reference_date.strftime('%Y-%m-%d')\n",
    "bbg_date= ql.TARGET().advance(ql.Date.todaysDate(), -1, ql.Days)\n",
    "ql.Settings.instance().evaluationDate = bbg_date\n",
    "curve_date = bbg_date.to_date()\n",
    "curve_date_str = curve_date.strftime('%Y-%m-%d')\n",
    "ctpy_valuation_date = curve_date.strftime('%Y%m%d')\n",
    "db_paths = [r\"\\\\igcp-fs\\NCF-GER\\Projetos 010-01-01\\1_DESENVOLVIMENTO_PROJECTOS_INTERNOS\\BLOOMBERG_DATABASE\\swaps.db\",\n",
    "            r\"\\\\igcp-fs\\NCF-GER\\Projetos 010-01-01\\1_DESENVOLVIMENTO_PROJECTOS_INTERNOS\\DASHBOARD_DIARIO\\DB\\DashboardDiario_database.db\"]\n",
    "data_dict = fetch_data(queries, db_paths, reference_date)\n",
    "con_swaps = sqlite3.connect(db_paths[0])\n",
    "con_dashboard = sqlite3.connect(db_paths[1])\n",
    "df_3month = data_dict.get(\"query_3month\")[0]\n",
    "df_ois = data_dict.get(\"query_ois\")[0]\n",
    "df_fixings_estr = data_dict.get(\"query_estr_fixings\")[0]\n",
    "df_fixings_euri = data_dict.get(\"query_euribor_3m_fixings\")[0]\n",
    "zero_rate_ois = data_dict.get(\"query_historical_zero_rates_ois\")[0]\n",
    "zero_rate_3m = data_dict.get(\"query_historical_zero_rates_3m\")[0]\n",
    "zero_rate_ois[\"reference_date\"] = pd.to_datetime(zero_rate_ois[\"reference_date\"])\n",
    "zero_rate_3m[\"reference_date\"] = pd.to_datetime(zero_rate_3m[\"reference_date\"])\n",
    "zero_rate_ois = zero_rate_ois.sort_values(\"reference_date\")\n",
    "zero_rate_3m  = zero_rate_3m.sort_values(\"reference_date\")\n",
    "excel_dir_emails = r\"\\\\igcp-fs\\ncf-ger\\Colateral 030-25-04\\emails contrapartes derivados\"\n",
    "excel_dir_wss = excel_dir = \"\\\\\\\\igcp.pt\\\\wss\\\\Import_Export\\\\Export\\\\PRD\\\\Dashboard_Export\\\\\"\n",
    "file_paths = {\n",
    "    \"MS\": generate_file_path(excel_dir_emails, f\"MS_Valuation_{ctpy_valuation_date}\"),\n",
    "    \"CALY\": generate_file_path(excel_dir_emails, f\"CALY_Valuation_{ctpy_valuation_date}\"),\n",
    "    \"BNPA\": generate_file_path(excel_dir_emails, f\"BNP_Valuation_{ctpy_valuation_date}\"),\n",
    "    }\n",
    "file_patterns = [\n",
    "        \"NCF-DERIVADOS\"\n",
    "        ]\n",
    "final_df=process_der_valuation_files(file_paths)\n",
    "loaded_excels = process_files_for_patterns(reference_date, excel_dir_wss, file_patterns)\n",
    "excel_derivados_data = loaded_excels[0]\n",
    "df_derivados = excel_derivados_data.parse(sheet_name=\"derivatives\", skiprows=1)\n",
    "ois_curve, discount_handle, tenors_ois, quotes_ois = build_estr_curve(curve_date_str,df_ois)\n",
    "euribor_curve, tenors_euribor, quotes_euribor = build_euribor_curve(curve_date_str,df_3month, df_ois)\n",
    "sensibilidades = swaps_krr_data(bbg_date,reference_date,trade_params_df,df_ois,df_3month,df_fixings_estr,df_fixings_euri,ois_curve, discount_handle, tenors_ois, quotes_ois,euribor_curve, tenors_euribor, quotes_euribor, shift = 0.0001, payments=3)\n",
    "VaR_parametrico_multi_fator = multi_factor_parametric_var(reference_date_str,curve_date_str, zero_rate_ois, zero_rate_3m, sensibilidades, horizon = \"10D\",alpha = 5/100,n_obs=3*30, choose_data = True)\n",
    "pd.set_option('display.float_format', '{:.2f}'.format)\n",
    "warnings.simplefilter(action='ignore', category=Warning)"
   ]
  },
  {
   "cell_type": "markdown",
   "id": "b1b05419",
   "metadata": {},
   "source": [
    "### Alimentar tabela Monitorização de Limites de Derivados"
   ]
  },
  {
   "cell_type": "code",
   "execution_count": 6,
   "id": "6c2102b1",
   "metadata": {},
   "outputs": [
    {
     "data": {
      "text/html": [
       "<div>\n",
       "<style scoped>\n",
       "    .dataframe tbody tr th:only-of-type {\n",
       "        vertical-align: middle;\n",
       "    }\n",
       "\n",
       "    .dataframe tbody tr th {\n",
       "        vertical-align: top;\n",
       "    }\n",
       "\n",
       "    .dataframe thead th {\n",
       "        text-align: right;\n",
       "    }\n",
       "</style>\n",
       "<table border=\"1\" class=\"dataframe\">\n",
       "  <thead>\n",
       "    <tr style=\"text-align: right;\">\n",
       "      <th></th>\n",
       "      <th>counterparty</th>\n",
       "      <th>reference_date</th>\n",
       "      <th>rating</th>\n",
       "      <th>maturidade_maxima</th>\n",
       "      <th>limite_maturidade</th>\n",
       "      <th>ocup_maturidade</th>\n",
       "      <th>limite_exposicao</th>\n",
       "      <th>exposicao</th>\n",
       "      <th>ocup_exposicao</th>\n",
       "      <th>nominal</th>\n",
       "    </tr>\n",
       "  </thead>\n",
       "  <tbody>\n",
       "    <tr>\n",
       "      <th>0</th>\n",
       "      <td>BNPA PAR</td>\n",
       "      <td>2025-09-05</td>\n",
       "      <td>B</td>\n",
       "      <td>15.01</td>\n",
       "      <td>50.00</td>\n",
       "      <td>0.30</td>\n",
       "      <td>380000000.00</td>\n",
       "      <td>204409.42</td>\n",
       "      <td>0.00</td>\n",
       "      <td>125000000</td>\n",
       "    </tr>\n",
       "    <tr>\n",
       "      <th>1</th>\n",
       "      <td>CALY PAR</td>\n",
       "      <td>2025-09-05</td>\n",
       "      <td>B</td>\n",
       "      <td>15.01</td>\n",
       "      <td>50.00</td>\n",
       "      <td>0.30</td>\n",
       "      <td>380000000.00</td>\n",
       "      <td>202636.74</td>\n",
       "      <td>0.00</td>\n",
       "      <td>125000000</td>\n",
       "    </tr>\n",
       "    <tr>\n",
       "      <th>2</th>\n",
       "      <td>MSLN FFT</td>\n",
       "      <td>2025-09-05</td>\n",
       "      <td>B</td>\n",
       "      <td>15.01</td>\n",
       "      <td>50.00</td>\n",
       "      <td>0.30</td>\n",
       "      <td>380000000.00</td>\n",
       "      <td>1217534.93</td>\n",
       "      <td>0.00</td>\n",
       "      <td>1000000000</td>\n",
       "    </tr>\n",
       "  </tbody>\n",
       "</table>\n",
       "</div>"
      ],
      "text/plain": [
       "  counterparty reference_date rating  maturidade_maxima  limite_maturidade  \\\n",
       "0     BNPA PAR     2025-09-05      B              15.01              50.00   \n",
       "1     CALY PAR     2025-09-05      B              15.01              50.00   \n",
       "2     MSLN FFT     2025-09-05      B              15.01              50.00   \n",
       "\n",
       "   ocup_maturidade  limite_exposicao  exposicao  ocup_exposicao     nominal  \n",
       "0             0.30      380000000.00  204409.42            0.00   125000000  \n",
       "1             0.30      380000000.00  202636.74            0.00   125000000  \n",
       "2             0.30      380000000.00 1217534.93            0.00  1000000000  "
      ]
     },
     "execution_count": 6,
     "metadata": {},
     "output_type": "execute_result"
    }
   ],
   "source": [
    "atualizar_bd_monitorizacao_derivados(df_derivados, final_df, VaR_parametrico_multi_fator, reference_date_str_2, excel_serial_to_date,trade_params_df,con_dashboard,salvar = False )"
   ]
  },
  {
   "cell_type": "markdown",
   "id": "fab6c468",
   "metadata": {},
   "source": [
    "### Alimentar tabela Avaliação de Derivados"
   ]
  },
  {
   "cell_type": "code",
   "execution_count": 7,
   "id": "4facac5a",
   "metadata": {},
   "outputs": [
    {
     "data": {
      "text/html": [
       "<div>\n",
       "<style scoped>\n",
       "    .dataframe tbody tr th:only-of-type {\n",
       "        vertical-align: middle;\n",
       "    }\n",
       "\n",
       "    .dataframe tbody tr th {\n",
       "        vertical-align: top;\n",
       "    }\n",
       "\n",
       "    .dataframe thead th {\n",
       "        text-align: right;\n",
       "    }\n",
       "</style>\n",
       "<table border=\"1\" class=\"dataframe\">\n",
       "  <thead>\n",
       "    <tr style=\"text-align: right;\">\n",
       "      <th></th>\n",
       "      <th>counterparty</th>\n",
       "      <th>reference_date</th>\n",
       "      <th>collateral_nominal</th>\n",
       "      <th>collateral_mv</th>\n",
       "      <th>igcp_derivatives_mv</th>\n",
       "      <th>mv_ctpy</th>\n",
       "      <th>mv_diff</th>\n",
       "      <th>movimento</th>\n",
       "    </tr>\n",
       "  </thead>\n",
       "  <tbody>\n",
       "    <tr>\n",
       "      <th>0</th>\n",
       "      <td>MSLN FFT</td>\n",
       "      <td>2025-09-05</td>\n",
       "      <td>0.00</td>\n",
       "      <td>0.00</td>\n",
       "      <td>134017.34</td>\n",
       "      <td>11089.00</td>\n",
       "      <td>122928.34</td>\n",
       "      <td>0.00</td>\n",
       "    </tr>\n",
       "    <tr>\n",
       "      <th>1</th>\n",
       "      <td>CALY PAR</td>\n",
       "      <td>2025-09-05</td>\n",
       "      <td>0.00</td>\n",
       "      <td>0.00</td>\n",
       "      <td>56980.96</td>\n",
       "      <td>51620.05</td>\n",
       "      <td>5360.91</td>\n",
       "      <td>0.00</td>\n",
       "    </tr>\n",
       "    <tr>\n",
       "      <th>2</th>\n",
       "      <td>BNPA PAR</td>\n",
       "      <td>2025-09-05</td>\n",
       "      <td>0.00</td>\n",
       "      <td>0.00</td>\n",
       "      <td>74481.16</td>\n",
       "      <td>53324.99</td>\n",
       "      <td>21156.17</td>\n",
       "      <td>0.00</td>\n",
       "    </tr>\n",
       "  </tbody>\n",
       "</table>\n",
       "</div>"
      ],
      "text/plain": [
       "  counterparty reference_date  collateral_nominal  collateral_mv  \\\n",
       "0     MSLN FFT     2025-09-05                0.00           0.00   \n",
       "1     CALY PAR     2025-09-05                0.00           0.00   \n",
       "2     BNPA PAR     2025-09-05                0.00           0.00   \n",
       "\n",
       "   igcp_derivatives_mv  mv_ctpy   mv_diff  movimento  \n",
       "0            134017.34 11089.00 122928.34       0.00  \n",
       "1             56980.96 51620.05   5360.91       0.00  \n",
       "2             74481.16 53324.99  21156.17       0.00  "
      ]
     },
     "execution_count": 7,
     "metadata": {},
     "output_type": "execute_result"
    }
   ],
   "source": [
    "atualizar_avaliacao_der_bd(final_df, df_derivados,reference_date_str_2 ,con_dashboard,salvar = False)"
   ]
  },
  {
   "cell_type": "code",
   "execution_count": null,
   "id": "9274ff06",
   "metadata": {},
   "outputs": [],
   "source": []
  }
 ],
 "metadata": {
  "kernelspec": {
   "display_name": "Python 3 (ipykernel)",
   "language": "python",
   "name": "python3"
  },
  "language_info": {
   "codemirror_mode": {
    "name": "ipython",
    "version": 3
   },
   "file_extension": ".py",
   "mimetype": "text/x-python",
   "name": "python",
   "nbconvert_exporter": "python",
   "pygments_lexer": "ipython3",
   "version": "3.9.12"
  }
 },
 "nbformat": 4,
 "nbformat_minor": 5
}
