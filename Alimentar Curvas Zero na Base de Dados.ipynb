{
 "cells": [
  {
   "cell_type": "code",
   "execution_count": 9,
   "id": "d9ba5916",
   "metadata": {},
   "outputs": [],
   "source": [
    "from avaliacao_swaps import *\n",
    "from queries import *\n",
    "import re\n",
    "from scipy.stats import norm\n",
    "from swap_trades import trade_params_df \n",
    "from dateutil.relativedelta import relativedelta\n",
    "warnings.simplefilter(action='ignore', category=Warning)\n",
    "pd.set_option('display.float_format', '{:,.2f}'.format)\n",
    "bbg_date = ql.TARGET().advance(ql.Date.todaysDate(), -1, ql.Days)\n",
    "ql.Settings.instance().evaluationDate = bbg_date\n",
    "curve_date = bbg_date.to_date()\n",
    "curve_date_str = curve_date.strftime('%Y-%m-%d')\n",
    "db_paths = [r\"\\\\igcp-fs\\NCF-GER\\Projetos 010-01-01\\1_DESENVOLVIMENTO_PROJECTOS_INTERNOS\\BLOOMBERG_DATABASE\\swaps.db\"]\n",
    "data_dict = fetch_data(queries, db_paths)\n",
    "con_swaps = sqlite3.connect(db_paths[0])\n",
    "df_3month = data_dict.get(\"query_3month\")[0]\n",
    "df_ois = data_dict.get(\"query_ois\")[0]\n",
    "df_fixings_estr = data_dict.get(\"query_estr_fixings\")[0]\n",
    "df_fixings_euri = data_dict.get(\"query_euribor_3m_fixings\")[0]"
   ]
  },
  {
   "cell_type": "code",
   "execution_count": 10,
   "id": "7f028d5a",
   "metadata": {},
   "outputs": [],
   "source": [
    "ois_curve, discount_handle, tenors_ois, quotes_ois = build_estr_curve(curve_date_str,df_ois)\n",
    "euribor_curve, tenors_euribor, quotes_euribor = build_euribor_curve(curve_date_str,df_3month, df_ois)"
   ]
  },
  {
   "cell_type": "markdown",
   "id": "10f45cc9",
   "metadata": {},
   "source": [
    "## Feed Zero Rates"
   ]
  },
  {
   "cell_type": "code",
   "execution_count": 12,
   "id": "3c860d22",
   "metadata": {},
   "outputs": [],
   "source": [
    "zero_ois = extract_zero_rates(ois_curve, tenors_ois,bbg_date,curve_date_str)\n",
    "zero_3m = extract_zero_rates(euribor_curve, tenors_euribor,bbg_date,curve_date_str)"
   ]
  },
  {
   "cell_type": "code",
   "execution_count": 9,
   "id": "9a0c0279",
   "metadata": {},
   "outputs": [
    {
     "data": {
      "text/plain": [
       "23"
      ]
     },
     "execution_count": 9,
     "metadata": {},
     "output_type": "execute_result"
    }
   ],
   "source": [
    "zero_ois.to_sql(\"zero_rates_ois\",conn, if_exists='append', index=False)\n",
    "zero_3m.to_sql(\"zero_rates_3m\",conn, if_exists='append', index=False)"
   ]
  }
 ],
 "metadata": {
  "kernelspec": {
   "display_name": "Python 3 (ipykernel)",
   "language": "python",
   "name": "python3"
  },
  "language_info": {
   "codemirror_mode": {
    "name": "ipython",
    "version": 3
   },
   "file_extension": ".py",
   "mimetype": "text/x-python",
   "name": "python",
   "nbconvert_exporter": "python",
   "pygments_lexer": "ipython3",
   "version": "3.9.12"
  }
 },
 "nbformat": 4,
 "nbformat_minor": 5
}
