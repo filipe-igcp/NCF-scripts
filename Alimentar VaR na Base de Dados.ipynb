{
 "cells": [
  {
   "cell_type": "markdown",
   "id": "7c6ddfeb",
   "metadata": {},
   "source": [
    "### Importar Dados"
   ]
  },
  {
   "cell_type": "code",
   "execution_count": 1,
   "id": "296de8ea",
   "metadata": {},
   "outputs": [],
   "source": [
    "from avaliacao_swaps import *\n",
    "from swap_trades import trade_params_df \n",
    "from queries import *\n",
    "from processar_avaliacoes_repos_derivados import atualizar_bd_var_multifator\n",
    "from dateutil.relativedelta import relativedelta\n",
    "reference_date = datetime.today()\n",
    "reference_date_str = reference_date.strftime('%Y-%m-%d')\n",
    "warnings.simplefilter(action='ignore', category=Warning)\n",
    "pd.set_option('display.float_format', '{:,.2f}'.format)\n",
    "bbg_date= ql.TARGET().advance(ql.Date.todaysDate(), -1, ql.Days)\n",
    "ql.Settings.instance().evaluationDate = bbg_date\n",
    "curve_date = bbg_date.to_date()\n",
    "curve_date_str = curve_date.strftime('%Y-%m-%d')\n",
    "db_paths = [r\"\\\\igcp-fs\\NCF-GER\\Projetos 010-01-01\\1_DESENVOLVIMENTO_PROJECTOS_INTERNOS\\BLOOMBERG_DATABASE\\swaps.db\"]\n",
    "con = sqlite3.connect(db_paths[0])\n",
    "data_dict = fetch_data(queries, db_paths)\n",
    "con_swaps = sqlite3.connect(db_paths[0])\n",
    "df_3month = data_dict.get(\"query_3month\")[0]\n",
    "df_ois = data_dict.get(\"query_ois\")[0]\n",
    "df_fixings_estr = data_dict.get(\"query_estr_fixings\")[0]\n",
    "df_fixings_euri = data_dict.get(\"query_euribor_3m_fixings\")[0]\n",
    "zero_rate_ois = data_dict.get(\"query_historical_zero_rates_ois\")[0]\n",
    "zero_rate_3m = data_dict.get(\"query_historical_zero_rates_3m\")[0]\n",
    "zero_rate_ois[\"reference_date\"] = pd.to_datetime(zero_rate_ois[\"reference_date\"])\n",
    "zero_rate_3m[\"reference_date\"] = pd.to_datetime(zero_rate_3m[\"reference_date\"])\n",
    "zero_rate_ois = zero_rate_ois.sort_values(\"reference_date\")\n",
    "zero_rate_3m  = zero_rate_3m.sort_values(\"reference_date\")\n",
    "ois_curve, discount_handle, tenors_ois, quotes_ois = build_estr_curve(curve_date_str,df_ois)\n",
    "euribor_curve, tenors_euribor, quotes_euribor = build_euribor_curve(curve_date_str,df_3month, df_ois)\n",
    "sensibilidades = swaps_krr_data(bbg_date,reference_date_str,trade_params_df,df_ois,df_3month,df_fixings_estr,df_fixings_euri,ois_curve, discount_handle, tenors_ois, quotes_ois,euribor_curve, tenors_euribor, quotes_euribor, shift = 0.0001, payments=3)\n"
   ]
  },
  {
   "cell_type": "markdown",
   "id": "baef6478",
   "metadata": {},
   "source": [
    "### Parâmetros do modelo\n",
    "\n",
    "- **horizon**  \n",
    "  Define o horizonte do VaR:  \n",
    "  - `1D` → 1 dia;\n",
    "  - `10D` → 10 dias;\n",
    "  - `1M` → 1 mês;\n",
    "  - `1Y` → 1 ano;\n",
    "\n",
    "- **alpha**  \n",
    "  Nível de significância estatística.  \n",
    "  - Exemplo: `alpha = 0.05` corresponde a um intervalo de confiança de 95%.  \n",
    "  - Interpretação em VaR: probabilidade máxima de perdas além do valor calculado.  \n",
    "\n",
    "- **n_obs**  \n",
    "  Número de observações históricas (em dias).  \n",
    "  - Define quantos dias de dados passados serão considerados para calcular o VaR.  \n",
    "  - Exemplo: `n_obs = 250` → aproximadamente 1 ano de curvas zero cupão.  \n",
    "\n",
    "- **choose_data**  \n",
    "  Define a forma de usar os dados históricos:  \n",
    "  - `True` → Usar **janela móvel**: só os últimos `n_obs` dias entram no cálculo (atualiza a cada dia).  \n",
    "  - `False` → Usar **todo o histórico disponível**: considera todos os dados carregados.  \n",
    "\n",
    "---\n",
    "### Ouput do modelo\n",
    "\n",
    "\n",
    "| Counterparty | Reference Date | VaR Multi-Factor |\n",
    "|--------------|----------------|-----------------|\n",
    "| ...          |     hoje       | 1,203,045.74    |\n",
    "| ...          |     hoje       | 150,664.25      |\n",
    "| ...          |     hoje       | 150,594.80      |\n"
   ]
  },
  {
   "cell_type": "code",
   "execution_count": 2,
   "id": "879fa3b2",
   "metadata": {},
   "outputs": [
    {
     "name": "stdout",
     "output_type": "stream",
     "text": [
      "VaR Paramétrico Multifator com dados históricos considerados até: 2025-06-07\n"
     ]
    }
   ],
   "source": [
    "VaR_paramétrico_multi_factor = multi_factor_parametric_var(reference_date_str,curve_date_str, zero_rate_ois, zero_rate_3m, sensibilidades, horizon = \"10D\",alpha = 5/100,n_obs=3*30, choose_data = True)"
   ]
  },
  {
   "cell_type": "markdown",
   "id": "ee1c4510",
   "metadata": {},
   "source": [
    "### Alimentar BD"
   ]
  },
  {
   "cell_type": "code",
   "execution_count": 3,
   "id": "36b8e162",
   "metadata": {},
   "outputs": [
    {
     "data": {
      "text/html": [
       "<div>\n",
       "<style scoped>\n",
       "    .dataframe tbody tr th:only-of-type {\n",
       "        vertical-align: middle;\n",
       "    }\n",
       "\n",
       "    .dataframe tbody tr th {\n",
       "        vertical-align: top;\n",
       "    }\n",
       "\n",
       "    .dataframe thead th {\n",
       "        text-align: right;\n",
       "    }\n",
       "</style>\n",
       "<table border=\"1\" class=\"dataframe\">\n",
       "  <thead>\n",
       "    <tr style=\"text-align: right;\">\n",
       "      <th></th>\n",
       "      <th>counterparty</th>\n",
       "      <th>reference_date</th>\n",
       "      <th>horizon</th>\n",
       "      <th>VaR</th>\n",
       "      <th>expected_shortfall</th>\n",
       "    </tr>\n",
       "  </thead>\n",
       "  <tbody>\n",
       "    <tr>\n",
       "      <th>0</th>\n",
       "      <td>MSLN FFT</td>\n",
       "      <td>2025-09-08</td>\n",
       "      <td>10D</td>\n",
       "      <td>-1,203,045.74</td>\n",
       "      <td>-1,508,667.90</td>\n",
       "    </tr>\n",
       "    <tr>\n",
       "      <th>1</th>\n",
       "      <td>BNPA PAR</td>\n",
       "      <td>2025-09-08</td>\n",
       "      <td>10D</td>\n",
       "      <td>-150,664.25</td>\n",
       "      <td>-188,939.05</td>\n",
       "    </tr>\n",
       "    <tr>\n",
       "      <th>2</th>\n",
       "      <td>CALY PAR</td>\n",
       "      <td>2025-09-08</td>\n",
       "      <td>10D</td>\n",
       "      <td>-150,594.80</td>\n",
       "      <td>-188,851.96</td>\n",
       "    </tr>\n",
       "  </tbody>\n",
       "</table>\n",
       "</div>"
      ],
      "text/plain": [
       "  counterparty reference_date horizon           VaR  expected_shortfall\n",
       "0     MSLN FFT     2025-09-08     10D -1,203,045.74       -1,508,667.90\n",
       "1     BNPA PAR     2025-09-08     10D   -150,664.25         -188,939.05\n",
       "2     CALY PAR     2025-09-08     10D   -150,594.80         -188,851.96"
      ]
     },
     "execution_count": 3,
     "metadata": {},
     "output_type": "execute_result"
    }
   ],
   "source": [
    "atualizar_bd_var_multifator(VaR_paramétrico_multi_factor,con,salvar = False,horizon=\"10D\",nome_tabela =\"VaR\")"
   ]
  },
  {
   "cell_type": "code",
   "execution_count": null,
   "id": "e2ccd860",
   "metadata": {},
   "outputs": [],
   "source": []
  },
  {
   "cell_type": "code",
   "execution_count": null,
   "id": "49d2922a",
   "metadata": {},
   "outputs": [],
   "source": []
  }
 ],
 "metadata": {
  "kernelspec": {
   "display_name": "Python 3 (ipykernel)",
   "language": "python",
   "name": "python3"
  },
  "language_info": {
   "codemirror_mode": {
    "name": "ipython",
    "version": 3
   },
   "file_extension": ".py",
   "mimetype": "text/x-python",
   "name": "python",
   "nbconvert_exporter": "python",
   "pygments_lexer": "ipython3",
   "version": "3.9.12"
  }
 },
 "nbformat": 4,
 "nbformat_minor": 5
}
